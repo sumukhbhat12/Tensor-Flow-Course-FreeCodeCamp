{
  "nbformat": 4,
  "nbformat_minor": 0,
  "metadata": {
    "colab": {
      "provenance": [],
      "authorship_tag": "ABX9TyOwB3P3ucJ/bIbFpoUeoegx",
      "include_colab_link": true
    },
    "kernelspec": {
      "name": "python3",
      "display_name": "Python 3"
    },
    "language_info": {
      "name": "python"
    }
  },
  "cells": [
    {
      "cell_type": "markdown",
      "metadata": {
        "id": "view-in-github",
        "colab_type": "text"
      },
      "source": [
        "<a href=\"https://colab.research.google.com/github/sumukhbhat12/Tensor-Flow-Course-FreeCodeCamp/blob/main/Tensor_Flow_course_FreeCodeCamp.ipynb\" target=\"_parent\"><img src=\"https://colab.research.google.com/assets/colab-badge.svg\" alt=\"Open In Colab\"/></a>"
      ]
    },
    {
      "cell_type": "markdown",
      "source": [
        "Import TensorFlow"
      ],
      "metadata": {
        "id": "2Tsp13ZRMrz6"
      }
    },
    {
      "cell_type": "code",
      "execution_count": 1,
      "metadata": {
        "id": "uOaM6_R8D4c0"
      },
      "outputs": [],
      "source": [
        "import tensorflow as tf"
      ]
    },
    {
      "cell_type": "code",
      "source": [
        "print(tf.version)"
      ],
      "metadata": {
        "colab": {
          "base_uri": "https://localhost:8080/"
        },
        "id": "6hZCBxVoN9d_",
        "outputId": "5f8ac1fe-d450-4b4a-de7e-261ca918ff51"
      },
      "execution_count": 2,
      "outputs": [
        {
          "output_type": "stream",
          "name": "stdout",
          "text": [
            "<module 'tensorflow._api.v2.version' from '/usr/local/lib/python3.10/dist-packages/tensorflow/_api/v2/version/__init__.py'>\n"
          ]
        }
      ]
    },
    {
      "cell_type": "markdown",
      "source": [
        "Creating Tensors"
      ],
      "metadata": {
        "id": "OKSECDo2Q36e"
      }
    },
    {
      "cell_type": "code",
      "source": [
        "string = tf.Variable(\"Hello world\", tf.string)\n",
        "number = tf.Variable(20, tf.int16)\n",
        "floating = tf.Variable(23.55, tf.float64)"
      ],
      "metadata": {
        "id": "FKpIa66cQ5rN"
      },
      "execution_count": 3,
      "outputs": []
    },
    {
      "cell_type": "markdown",
      "source": [
        "Rank/Degree of Tensors -\n",
        "number of dimensions in the tensor.\n",
        "tensor of Rank 0 is a scalar."
      ],
      "metadata": {
        "id": "pMdRAKpkRa3Q"
      }
    },
    {
      "cell_type": "code",
      "source": [
        "rank1_tensor = tf.Variable(['Hello', 'World'], tf.string)\n",
        "rank2_tensor = tf.Variable([['Hello', 'World'], ['I am', 'Sumukh']], tf.string)"
      ],
      "metadata": {
        "id": "zy8CmpkDRQ8_"
      },
      "execution_count": 10,
      "outputs": []
    },
    {
      "cell_type": "code",
      "source": [
        "print(rank2_tensor)"
      ],
      "metadata": {
        "colab": {
          "base_uri": "https://localhost:8080/"
        },
        "id": "zFrsNfkYSUkg",
        "outputId": "3645463e-fe76-44e3-a735-495ce30d1f14"
      },
      "execution_count": 11,
      "outputs": [
        {
          "output_type": "stream",
          "name": "stdout",
          "text": [
            "<tf.Variable 'Variable:0' shape=(2, 2) dtype=string, numpy=\n",
            "array([[b'Hello', b'World'],\n",
            "       [b'I am', b'Sumukh']], dtype=object)>\n"
          ]
        }
      ]
    },
    {
      "cell_type": "code",
      "source": [
        "tf.rank(rank2_tensor)"
      ],
      "metadata": {
        "colab": {
          "base_uri": "https://localhost:8080/"
        },
        "id": "9F9zCQgvSy6i",
        "outputId": "707c2bfd-3135-47de-9af1-1715612b4079"
      },
      "execution_count": 12,
      "outputs": [
        {
          "output_type": "execute_result",
          "data": {
            "text/plain": [
              "<tf.Tensor: shape=(), dtype=int32, numpy=2>"
            ]
          },
          "metadata": {},
          "execution_count": 12
        }
      ]
    },
    {
      "cell_type": "code",
      "source": [],
      "metadata": {
        "id": "_Xm1oTOfTG0u"
      },
      "execution_count": null,
      "outputs": []
    }
  ]
}