{
  "nbformat": 4,
  "nbformat_minor": 0,
  "metadata": {
    "colab": {
      "provenance": [],
      "authorship_tag": "ABX9TyP3mSte/fZXhEARNQyXL6KT",
      "include_colab_link": true
    },
    "kernelspec": {
      "name": "python3",
      "display_name": "Python 3"
    },
    "language_info": {
      "name": "python"
    }
  },
  "cells": [
    {
      "cell_type": "markdown",
      "metadata": {
        "id": "view-in-github",
        "colab_type": "text"
      },
      "source": [
        "<a href=\"https://colab.research.google.com/github/sumukhbhat12/Tensor-Flow-Course-FreeCodeCamp/blob/main/Tensor_Flow_course_FreeCodeCamp.ipynb\" target=\"_parent\"><img src=\"https://colab.research.google.com/assets/colab-badge.svg\" alt=\"Open In Colab\"/></a>"
      ]
    },
    {
      "cell_type": "markdown",
      "source": [
        "Import TensorFlow"
      ],
      "metadata": {
        "id": "2Tsp13ZRMrz6"
      }
    },
    {
      "cell_type": "code",
      "execution_count": 8,
      "metadata": {
        "id": "uOaM6_R8D4c0"
      },
      "outputs": [],
      "source": [
        "import tensorflow as tf\n",
        "import numpy as np"
      ]
    },
    {
      "cell_type": "code",
      "source": [
        "print(tf.version)"
      ],
      "metadata": {
        "colab": {
          "base_uri": "https://localhost:8080/"
        },
        "id": "6hZCBxVoN9d_",
        "outputId": "922ff249-62fa-434d-f0a2-7f230ba99082"
      },
      "execution_count": 2,
      "outputs": [
        {
          "output_type": "stream",
          "name": "stdout",
          "text": [
            "<module 'tensorflow._api.v2.version' from '/usr/local/lib/python3.10/dist-packages/tensorflow/_api/v2/version/__init__.py'>\n"
          ]
        }
      ]
    },
    {
      "cell_type": "markdown",
      "source": [
        "Creating Tensors"
      ],
      "metadata": {
        "id": "OKSECDo2Q36e"
      }
    },
    {
      "cell_type": "code",
      "source": [
        "string = tf.Variable(\"Hello world\", tf.string)\n",
        "number = tf.Variable(20, tf.int16)\n",
        "floating = tf.Variable(23.55, tf.float64)"
      ],
      "metadata": {
        "id": "FKpIa66cQ5rN"
      },
      "execution_count": 3,
      "outputs": []
    },
    {
      "cell_type": "markdown",
      "source": [
        "Rank/Degree of Tensors -\n",
        "number of dimensions in the tensor.\n",
        "tensor of Rank 0 is a scalar."
      ],
      "metadata": {
        "id": "pMdRAKpkRa3Q"
      }
    },
    {
      "cell_type": "code",
      "source": [
        "rank1_tensor = tf.Variable(['Hello', 'World'], tf.string)\n",
        "rank2_tensor = tf.Variable([['Hello', 'World'], ['I am', 'Sumukh']], tf.string)"
      ],
      "metadata": {
        "id": "zy8CmpkDRQ8_"
      },
      "execution_count": 4,
      "outputs": []
    },
    {
      "cell_type": "code",
      "source": [
        "print(rank2_tensor)"
      ],
      "metadata": {
        "colab": {
          "base_uri": "https://localhost:8080/"
        },
        "id": "zFrsNfkYSUkg",
        "outputId": "2656cb77-1648-4366-d834-175b7896c6ad"
      },
      "execution_count": 5,
      "outputs": [
        {
          "output_type": "stream",
          "name": "stdout",
          "text": [
            "<tf.Variable 'Variable:0' shape=(2, 2) dtype=string, numpy=\n",
            "array([[b'Hello', b'World'],\n",
            "       [b'I am', b'Sumukh']], dtype=object)>\n"
          ]
        }
      ]
    },
    {
      "cell_type": "code",
      "source": [
        "tf.rank(rank2_tensor)"
      ],
      "metadata": {
        "colab": {
          "base_uri": "https://localhost:8080/"
        },
        "id": "9F9zCQgvSy6i",
        "outputId": "5e12eca0-f6db-4c38-85ab-d567e1af332d"
      },
      "execution_count": 6,
      "outputs": [
        {
          "output_type": "execute_result",
          "data": {
            "text/plain": [
              "<tf.Tensor: shape=(), dtype=int32, numpy=2>"
            ]
          },
          "metadata": {},
          "execution_count": 6
        }
      ]
    },
    {
      "cell_type": "markdown",
      "source": [
        "Changing Shape"
      ],
      "metadata": {
        "id": "HN8RJQHn5uWu"
      }
    },
    {
      "cell_type": "code",
      "source": [
        "arr = np.array(rank2_tensor).reshape(4,)\n",
        "print(arr)\n",
        "\n",
        "arr = arr.reshape(2,2)\n",
        "print(arr)\n",
        "\n",
        "arr = arr.reshape(4,1) #same as (-1,1)\n",
        "print(arr)\n",
        "\n",
        "arr = arr.reshape(1,4) #same as (1,-1), (-1,4),\n",
        "print(arr)"
      ],
      "metadata": {
        "id": "_Xm1oTOfTG0u",
        "colab": {
          "base_uri": "https://localhost:8080/"
        },
        "outputId": "68b10eaf-3dba-4ed2-91d6-f65307cbf9fc"
      },
      "execution_count": 17,
      "outputs": [
        {
          "output_type": "stream",
          "name": "stdout",
          "text": [
            "[b'Hello' b'World' b'I am' b'Sumukh']\n",
            "[[b'Hello' b'World']\n",
            " [b'I am' b'Sumukh']]\n",
            "[[b'Hello']\n",
            " [b'World']\n",
            " [b'I am']\n",
            " [b'Sumukh']]\n",
            "[[b'Hello' b'World' b'I am' b'Sumukh']]\n",
            "[[b'Hello' b'World' b'I am' b'Sumukh']]\n"
          ]
        }
      ]
    },
    {
      "cell_type": "markdown",
      "source": [
        "[2,2,3] --> first number represents number of items, second and third represent the shape in rows and cols"
      ],
      "metadata": {
        "id": "gKh8hVLH_Qje"
      }
    },
    {
      "cell_type": "code",
      "source": [
        "tensor1 = tf.ones([2,2,3])\n",
        "print(tensor1)"
      ],
      "metadata": {
        "colab": {
          "base_uri": "https://localhost:8080/"
        },
        "id": "FIXLkkzA-T8l",
        "outputId": "5f547e63-57c5-482c-a1d4-bdfcff752070"
      },
      "execution_count": 25,
      "outputs": [
        {
          "output_type": "stream",
          "name": "stdout",
          "text": [
            "tf.Tensor(\n",
            "[[[1. 1. 1.]\n",
            "  [1. 1. 1.]]\n",
            "\n",
            " [[1. 1. 1.]\n",
            "  [1. 1. 1.]]], shape=(2, 2, 3), dtype=float32)\n"
          ]
        }
      ]
    },
    {
      "cell_type": "code",
      "source": [
        "tensor1 = tf.reshape(tensor1, [2,3,2])\n",
        "print(tensor1)"
      ],
      "metadata": {
        "colab": {
          "base_uri": "https://localhost:8080/"
        },
        "id": "0IhNxfjQ_z__",
        "outputId": "d69e7e36-ce09-47ce-a8e6-d120b237ba70"
      },
      "execution_count": 31,
      "outputs": [
        {
          "output_type": "stream",
          "name": "stdout",
          "text": [
            "tf.Tensor(\n",
            "[[[1. 1.]\n",
            "  [1. 1.]\n",
            "  [1. 1.]]\n",
            "\n",
            " [[1. 1.]\n",
            "  [1. 1.]\n",
            "  [1. 1.]]], shape=(2, 3, 2), dtype=float32)\n"
          ]
        }
      ]
    },
    {
      "cell_type": "code",
      "source": [
        "tensor1 = tf.reshape(tensor1, [6,-1])\n",
        "print(tensor1)"
      ],
      "metadata": {
        "colab": {
          "base_uri": "https://localhost:8080/"
        },
        "id": "Nzq8D57aBd9I",
        "outputId": "3edbb5f9-931c-4ec5-a60b-0f15ce093357"
      },
      "execution_count": 32,
      "outputs": [
        {
          "output_type": "stream",
          "name": "stdout",
          "text": [
            "tf.Tensor(\n",
            "[[1. 1.]\n",
            " [1. 1.]\n",
            " [1. 1.]\n",
            " [1. 1.]\n",
            " [1. 1.]\n",
            " [1. 1.]], shape=(6, 2), dtype=float32)\n"
          ]
        }
      ]
    },
    {
      "cell_type": "code",
      "source": [
        "tensor1 = tf.reshape(tensor1, [-1,2,3])\n",
        "print(tensor1)"
      ],
      "metadata": {
        "colab": {
          "base_uri": "https://localhost:8080/"
        },
        "id": "BVug45oQB07r",
        "outputId": "45fcf57d-3fe1-4d84-fe42-136712260eeb"
      },
      "execution_count": 33,
      "outputs": [
        {
          "output_type": "stream",
          "name": "stdout",
          "text": [
            "tf.Tensor(\n",
            "[[[1. 1. 1.]\n",
            "  [1. 1. 1.]]\n",
            "\n",
            " [[1. 1. 1.]\n",
            "  [1. 1. 1.]]], shape=(2, 2, 3), dtype=float32)\n"
          ]
        }
      ]
    },
    {
      "cell_type": "code",
      "source": [
        "t = tf.zeros([5,5,5,5])\n",
        "\n",
        "t = tf.reshape(t, [-1,1])\n",
        "print(t)"
      ],
      "metadata": {
        "id": "MCPEYuOVB-00"
      },
      "execution_count": null,
      "outputs": []
    }
  ]
}