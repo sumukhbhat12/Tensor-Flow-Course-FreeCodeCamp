{
  "nbformat": 4,
  "nbformat_minor": 0,
  "metadata": {
    "colab": {
      "provenance": [],
      "authorship_tag": "ABX9TyPT0uzdIVBwiaA2n4AacqL6",
      "include_colab_link": true
    },
    "kernelspec": {
      "name": "python3",
      "display_name": "Python 3"
    },
    "language_info": {
      "name": "python"
    }
  },
  "cells": [
    {
      "cell_type": "markdown",
      "metadata": {
        "id": "view-in-github",
        "colab_type": "text"
      },
      "source": [
        "<a href=\"https://colab.research.google.com/github/sumukhbhat12/Tensor-Flow-Course-FreeCodeCamp/blob/main/Hidden_Markov_Models.ipynb\" target=\"_parent\"><img src=\"https://colab.research.google.com/assets/colab-badge.svg\" alt=\"Open In Colab\"/></a>"
      ]
    },
    {
      "cell_type": "code",
      "execution_count": 1,
      "metadata": {
        "id": "ryrpXHp4Vu3J"
      },
      "outputs": [],
      "source": [
        "import tensorflow_probability as tfp\n",
        "import tensorflow as tf"
      ]
    },
    {
      "cell_type": "markdown",
      "source": [
        "A simple weather model.\n",
        "\n",
        "Represent a cold day with 0 and a hot day with 1.\n",
        "The first day of the sequence has a 0.8 chance of being cold.\n",
        "\n",
        "A cold day has a 30% chance of being followed by a hot day.\n",
        "A hot day has a 20% chance of being followed by a cold day.\n",
        "\n",
        "On each day the temperature is normally distributed with mean and standard deviation 0 and 5 on a cold day and mean and standard deviation 15 and 10 on a hot day.\n",
        "(means on a hot day, average temperature is 15 and ranges from 5 to 25)"
      ],
      "metadata": {
        "id": "ulBLq5kNZL5l"
      }
    },
    {
      "cell_type": "code",
      "source": [
        "tfd = tfp.distributions\n",
        "\n",
        "initial_distribution = tfd.Categorical(probs=[0.8,0.2])   # 0.8 chance of being cold and 0.2 chance of being hot\n",
        "\n",
        "transition_distribution = tfd.Categorical(probs=[[0.7, 0.3],[0.2, 0.8]])    # 0 -> 0 = 0.7, 0 -> 1 = 0.3, 1 -> 0 = 0.2, 1 -> 1 = 0.8\n",
        "\n",
        "observation_distribution = tfd.Normal(loc=[0.0, 15.0], scale=[5.0, 10.0])   # loc is mean and scale is standard deviation"
      ],
      "metadata": {
        "id": "8zSLKpUiY-Vn"
      },
      "execution_count": 2,
      "outputs": []
    },
    {
      "cell_type": "markdown",
      "source": [
        "Creating the model"
      ],
      "metadata": {
        "id": "SXzJNeoGchWm"
      }
    },
    {
      "cell_type": "code",
      "source": [
        "model = tfd.HiddenMarkovModel(\n",
        "    initial_distribution=initial_distribution,\n",
        "    transition_distribution=transition_distribution,\n",
        "    observation_distribution=observation_distribution,\n",
        "    num_steps=7   #How many days we want to predict for ( how many times we step through the probability cycle and run the model )\n",
        ")"
      ],
      "metadata": {
        "id": "pechP96ycIZg"
      },
      "execution_count": 4,
      "outputs": []
    },
    {
      "cell_type": "code",
      "source": [
        "mean = model.mean()"
      ],
      "metadata": {
        "id": "rjmmPCySd4Om"
      },
      "execution_count": 9,
      "outputs": []
    },
    {
      "cell_type": "code",
      "source": [
        "mean.numpy()"
      ],
      "metadata": {
        "colab": {
          "base_uri": "https://localhost:8080/"
        },
        "id": "KsGithKJeVLm",
        "outputId": "4c967a8c-7d61-4bd2-aec1-c378edc3709d"
      },
      "execution_count": 10,
      "outputs": [
        {
          "output_type": "execute_result",
          "data": {
            "text/plain": [
              "array([3.       , 5.9999995, 7.4999995, 8.25     , 8.625001 , 8.812501 ,\n",
              "       8.90625  ], dtype=float32)"
            ]
          },
          "metadata": {},
          "execution_count": 10
        }
      ]
    }
  ]
}